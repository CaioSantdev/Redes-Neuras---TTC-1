{
 "cells": [
  {
   "cell_type": "code",
   "execution_count": 6,
   "id": "d955b241-25f7-4001-b293-f29fa443f0eb",
   "metadata": {},
   "outputs": [
    {
     "name": "stdout",
     "output_type": "stream",
     "text": [
      "Collecting pandas\n",
      "  Downloading pandas-2.2.3-cp311-cp311-manylinux_2_17_x86_64.manylinux2014_x86_64.whl (13.1 MB)\n",
      "\u001b[2K     \u001b[38;2;114;156;31m━━━━━━━━━━━━━━━━━━━━━━━━━━━━━━━━━━━━━━━━\u001b[0m \u001b[32m13.1/13.1 MB\u001b[0m \u001b[31m49.8 MB/s\u001b[0m eta \u001b[36m0:00:00\u001b[0mm eta \u001b[36m0:00:01\u001b[0m[36m0:00:01\u001b[0m\n",
      "Collecting numpy>=1.23.2\n",
      "  Downloading numpy-2.2.4-cp311-cp311-manylinux_2_17_x86_64.manylinux2014_x86_64.whl (16.4 MB)\n",
      "\u001b[2K     \u001b[38;2;114;156;31m━━━━━━━━━━━━━━━━━━━━━━━━━━━━━━━━━━━━━━━━\u001b[0m \u001b[32m16.4/16.4 MB\u001b[0m \u001b[31m63.5 MB/s\u001b[0m eta \u001b[36m0:00:00\u001b[0mm eta \u001b[36m0:00:01\u001b[0m0:01\u001b[0m\n",
      "\u001b[?25hRequirement already satisfied: python-dateutil>=2.8.2 in /home/caio/.pyenv/versions/3.11.0/lib/python3.11/site-packages (from pandas) (2.9.0.post0)\n",
      "Collecting pytz>=2020.1\n",
      "  Downloading pytz-2025.1-py2.py3-none-any.whl (507 kB)\n",
      "\u001b[2K     \u001b[38;2;114;156;31m━━━━━━━━━━━━━━━━━━━━━━━━━━━━━━━━━━━━━━\u001b[0m \u001b[32m507.9/507.9 kB\u001b[0m \u001b[31m87.1 MB/s\u001b[0m eta \u001b[36m0:00:00\u001b[0m\n",
      "Collecting tzdata>=2022.7\n",
      "  Downloading tzdata-2025.1-py2.py3-none-any.whl (346 kB)\n",
      "\u001b[2K     \u001b[38;2;114;156;31m━━━━━━━━━━━━━━━━━━━━━━━━━━━━━━━━━━━━━━\u001b[0m \u001b[32m346.8/346.8 kB\u001b[0m \u001b[31m72.4 MB/s\u001b[0m eta \u001b[36m0:00:00\u001b[0m\n",
      "\u001b[?25hRequirement already satisfied: six>=1.5 in /home/caio/.pyenv/versions/3.11.0/lib/python3.11/site-packages (from python-dateutil>=2.8.2->pandas) (1.17.0)\n",
      "Installing collected packages: pytz, tzdata, numpy, pandas\n",
      "Successfully installed numpy-2.2.4 pandas-2.2.3 pytz-2025.1 tzdata-2025.1\n",
      "\n",
      "\u001b[1m[\u001b[0m\u001b[34;49mnotice\u001b[0m\u001b[1;39;49m]\u001b[0m\u001b[39;49m A new release of pip available: \u001b[0m\u001b[31;49m22.3\u001b[0m\u001b[39;49m -> \u001b[0m\u001b[32;49m25.0.1\u001b[0m\n",
      "\u001b[1m[\u001b[0m\u001b[34;49mnotice\u001b[0m\u001b[1;39;49m]\u001b[0m\u001b[39;49m To update, run: \u001b[0m\u001b[32;49mpip install --upgrade pip\u001b[0m\n"
     ]
    }
   ],
   "source": [
    "!pip install pandas"
   ]
  },
  {
   "cell_type": "code",
   "execution_count": 8,
   "id": "b18301f8-3dd7-4336-9938-f8b024a198ba",
   "metadata": {},
   "outputs": [
    {
     "ename": "ModuleNotFoundError",
     "evalue": "No module named 'sklearn'",
     "output_type": "error",
     "traceback": [
      "\u001b[31m---------------------------------------------------------------------------\u001b[39m",
      "\u001b[31mModuleNotFoundError\u001b[39m                       Traceback (most recent call last)",
      "\u001b[36mCell\u001b[39m\u001b[36m \u001b[39m\u001b[32mIn[8]\u001b[39m\u001b[32m, line 3\u001b[39m\n\u001b[32m      1\u001b[39m \u001b[38;5;66;03m# Importar bibliotecas necessárias\u001b[39;00m\n\u001b[32m      2\u001b[39m \u001b[38;5;28;01mimport\u001b[39;00m\u001b[38;5;250m \u001b[39m\u001b[34;01mpandas\u001b[39;00m\u001b[38;5;250m \u001b[39m\u001b[38;5;28;01mas\u001b[39;00m\u001b[38;5;250m \u001b[39m\u001b[34;01mpd\u001b[39;00m\n\u001b[32m----> \u001b[39m\u001b[32m3\u001b[39m \u001b[38;5;28;01mfrom\u001b[39;00m\u001b[38;5;250m \u001b[39m\u001b[34;01msklearn\u001b[39;00m\u001b[34;01m.\u001b[39;00m\u001b[34;01mmodel_selection\u001b[39;00m\u001b[38;5;250m \u001b[39m\u001b[38;5;28;01mimport\u001b[39;00m train_test_split\n\u001b[32m      4\u001b[39m \u001b[38;5;28;01mfrom\u001b[39;00m\u001b[38;5;250m \u001b[39m\u001b[34;01msklearn\u001b[39;00m\u001b[34;01m.\u001b[39;00m\u001b[34;01mneural_network\u001b[39;00m\u001b[38;5;250m \u001b[39m\u001b[38;5;28;01mimport\u001b[39;00m MLPClassifier\n\u001b[32m      5\u001b[39m \u001b[38;5;28;01mfrom\u001b[39;00m\u001b[38;5;250m \u001b[39m\u001b[34;01msklearn\u001b[39;00m\u001b[34;01m.\u001b[39;00m\u001b[34;01mpreprocessing\u001b[39;00m\u001b[38;5;250m \u001b[39m\u001b[38;5;28;01mimport\u001b[39;00m LabelEncoder\n",
      "\u001b[31mModuleNotFoundError\u001b[39m: No module named 'sklearn'"
     ]
    }
   ],
   "source": [
    "# Importar bibliotecas necessárias\n",
    "import pandas as pd\n",
    "from sklearn.model_selection import train_test_split\n",
    "from sklearn.neural_network import MLPClassifier\n",
    "from sklearn.preprocessing import LabelEncoder\n",
    "from sklearn.impute import SimpleImputer\n",
    "from sklearn.metrics import accuracy_score, classification_report\n",
    "\n",
    "# Passo 1: Carregar os dados\n",
    "file_path = '/mnt/data/dados_funcionais_patenteadores.xlsx'\n",
    "dados = pd.read_excel(file_path)\n",
    "\n",
    "# Passo 2: Tratar valores ausentes\n",
    "imputer = SimpleImputer(strategy='most_frequent')\n",
    "dados_imputados = dados.copy()\n",
    "\n",
    "# Preenchendo valores ausentes para as colunas categóricas\n",
    "for col in ['Research areas', 'Research subareas', \"Bachelor's degree location\", 'Master\\'s degree location', \n",
    "            'Doctorate\\'s degree location', 'Gender', 'Have you ever had a patent awarded?',\n",
    "            'Have you ever had any patents licensed?', 'Have you ever had a patent deposited abroad through Patent Cooperation Treaty (PCT)?',\n",
    "            'Have any patent request been the result of interaction with the industry?', 'Interaction in patenting process. Active or passive?',\n",
    "            'Classification regarding professional orientation', 'Nature of motivation', 'Relationship between standards / personal values']:\n",
    "    dados_imputados[col] = imputer.fit_transform(dados[[col]])\n",
    "\n",
    "# Passo 3: Converter variáveis categóricas em variáveis numéricas\n",
    "label_encoder = LabelEncoder()\n",
    "\n",
    "for col in ['Research areas', 'Research subareas', \"Bachelor's degree location\", 'Master\\'s degree location', \n",
    "            'Doctorate\\'s degree location', 'Gender', 'Have you ever had a patent awarded?',\n",
    "            'Have you ever had any patents licensed?', 'Have you ever had a patent deposited abroad through Patent Cooperation Treaty (PCT)?',\n",
    "            'Have any patent request been the result of interaction with the industry?', 'Interaction in patenting process. Active or passive?',\n",
    "            'Classification regarding professional orientation', 'Nature of motivation', 'Relationship between standards / personal values']:\n",
    "    dados_imputados[col] = label_encoder.fit_transform(dados_imputados[col])\n",
    "\n",
    "# Passo 4: Corrigir a coluna \"Birth Interval\" (intervalos de anos)\n",
    "dados_imputados['Birth Interval'] = dados_imputados['Birth Interval'].apply(lambda x: int(x.split('-')[0]) if isinstance(x, str) and '-' in x else x)\n",
    "\n",
    "# Passo 5: Dividir os dados em variáveis de entrada (X) e variável alvo (y)\n",
    "X = dados_imputados.drop(columns=['Identifier', 'Have you ever had a patent awarded?'])  # Remover a variável alvo e identificadores\n",
    "y = dados_imputados['Have you ever had a patent awarded?']  # Variável alvo\n",
    "\n",
    "# Passo 6: Dividir os dados em treino e teste (80% treino, 20% teste)\n",
    "X_train, X_test, y_train, y_test = train_test_split(X, y, test_size=0.2, random_state=42)\n",
    "\n",
    "# Passo 7: Criar o modelo de rede neural\n",
    "model = MLPClassifier(hidden_layer_sizes=(64, 64), max_iter=500, random_state=42)\n",
    "\n",
    "# Passo 8: Treinar o modelo\n",
    "model.fit(X_train, y_train)\n",
    "\n",
    "# Passo 9: Fazer previsões no conjunto de teste\n",
    "y_pred = model.predict(X_test)\n",
    "\n",
    "# Passo 10: Avaliar o modelo\n",
    "accuracy = accuracy_score(y_test, y_pred)\n",
    "classification_report_result = classification_report(y_test, y_pred)\n",
    "\n",
    "# Exibir a acurácia e o relatório de classificação\n",
    "print(f'Acurácia: {accuracy}')\n",
    "print(f'Relatório de Classificação:\\n{classification_report_result}')\n"
   ]
  },
  {
   "cell_type": "code",
   "execution_count": null,
   "id": "ff47bda2-0312-4441-b621-c20f78fb3976",
   "metadata": {},
   "outputs": [],
   "source": []
  }
 ],
 "metadata": {
  "kernelspec": {
   "display_name": "Python 3 (ipykernel)",
   "language": "python",
   "name": "python3"
  },
  "language_info": {
   "codemirror_mode": {
    "name": "ipython",
    "version": 3
   },
   "file_extension": ".py",
   "mimetype": "text/x-python",
   "name": "python",
   "nbconvert_exporter": "python",
   "pygments_lexer": "ipython3",
   "version": "3.11.0"
  }
 },
 "nbformat": 4,
 "nbformat_minor": 5
}
